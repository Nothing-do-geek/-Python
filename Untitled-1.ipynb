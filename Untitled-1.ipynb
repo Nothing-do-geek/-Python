{
 "cells": [
  {
   "cell_type": "code",
   "execution_count": null,
   "metadata": {},
   "outputs": [],
   "source": [
    "a = 77\n",
    "b = 82\n",
    "a = b * 10\n",
    "b = a//10\n",
    "a = b%10 + 9\n",
    "print('b=',b)\n",
    "print('a=',a)"
   ]
  }
 ],
 "metadata": {
  "language_info": {
   "name": "python"
  },
  "orig_nbformat": 4
 },
 "nbformat": 4,
 "nbformat_minor": 2
}
