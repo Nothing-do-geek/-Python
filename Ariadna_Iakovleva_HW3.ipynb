{
  "metadata": {
    "language_info": {
      "codemirror_mode": {
        "name": "python",
        "version": 3
      },
      "file_extension": ".py",
      "mimetype": "text/x-python",
      "name": "python",
      "nbconvert_exporter": "python",
      "pygments_lexer": "ipython3",
      "version": "3.8"
    },
    "kernelspec": {
      "name": "python",
      "display_name": "Python (Pyodide)",
      "language": "python"
    }
  },
  "nbformat_minor": 4,
  "nbformat": 4,
  "cells": [
    {
      "cell_type": "code",
      "source": "x = 0\nwhile x < 9:\n    print(x)\n    x += 1\nprint('Finished!')",
      "metadata": {
        "trusted": true
      },
      "execution_count": null,
      "outputs": []
    },
    {
      "cell_type": "code",
      "source": "condition = 10\nwhile condition < 11:\n    print(condition)\n    condition = condition + 1",
      "metadata": {
        "trusted": true
      },
      "execution_count": null,
      "outputs": []
    },
    {
      "cell_type": "code",
      "source": "n = 8\nwhile n > 0:\n    n -= 1\n    print(n, end='')\n    if n == -1:\n        break\n    else:\n        print('Loop done.')",
      "metadata": {
        "trusted": true
      },
      "execution_count": null,
      "outputs": []
    },
    {
      "cell_type": "code",
      "source": "while True:\n    print('You need to stop me!')",
      "metadata": {
        "trusted": true
      },
      "execution_count": null,
      "outputs": []
    },
    {
      "cell_type": "code",
      "source": "while test:\n    statements\n    if test:\n        break\n    if test:\n        continue\nelse:\n    statements",
      "metadata": {
        "trusted": true
      },
      "execution_count": null,
      "outputs": []
    },
    {
      "cell_type": "code",
      "source": "while True:\n    pass",
      "metadata": {
        "trusted": true
      },
      "execution_count": null,
      "outputs": []
    },
    {
      "cell_type": "code",
      "source": "x = 10\nwhile x:\n    x = x - 1\n    if x % 2 != 0:\n        continue\n    print(x, end='')",
      "metadata": {
        "trusted": true
      },
      "execution_count": null,
      "outputs": []
    },
    {
      "cell_type": "code",
      "source": "i = 0\nwhile i < 5:\n    i += 1\n    if i == 3:\n        continue\n    print(i)",
      "metadata": {
        "trusted": true
      },
      "execution_count": null,
      "outputs": []
    },
    {
      "cell_type": "code",
      "source": "while True:\n    name = input('Enter name:')\n    if name == 'stop':\n        break\n    age = input('Enter age:')\n    print('Hello', name, '=>', int(age) ** 2)",
      "metadata": {
        "trusted": true
      },
      "execution_count": null,
      "outputs": []
    },
    {
      "cell_type": "code",
      "source": "i = 1\nwhile i < 4:\n    print(i)\n    if i == 3:\n        break\n    i += 1",
      "metadata": {
        "trusted": true
      },
      "execution_count": null,
      "outputs": []
    },
    {
      "cell_type": "code",
      "source": "i = 1\nwhile i < 3:\n    print(i)\n    i += 1\n    if i == 2:\n        break\nelse:\n    print(\"i is no longer less than 3)",
      "metadata": {
        "trusted": true
      },
      "execution_count": null,
      "outputs": []
    },
    {
      "cell_type": "code",
      "source": "a = 0\nwhile a < 3:\n    a += 1\n    print(a)",
      "metadata": {
        "trusted": true
      },
      "execution_count": null,
      "outputs": []
    },
    {
      "cell_type": "code",
      "source": "for num in range(10):\n    print('Hello')",
      "metadata": {
        "trusted": true
      },
      "execution_count": null,
      "outputs": []
    },
    {
      "cell_type": "code",
      "source": "for i in range(3):\n    num = eval(input('Enter a number: '))\n    print('The square of your number is', num**2)\nprint('The loop is now done.')",
      "metadata": {
        "trusted": true
      },
      "execution_count": null,
      "outputs": []
    },
    {
      "cell_type": "code",
      "source": "for i in range(5):\n    print(i, end='')",
      "metadata": {
        "trusted": true
      },
      "execution_count": null,
      "outputs": []
    },
    {
      "cell_type": "code",
      "source": "for i in range(3):\n    print(i+1,'--Hello')",
      "metadata": {
        "trusted": true
      },
      "execution_count": null,
      "outputs": []
    },
    {
      "cell_type": "code",
      "source": "for i in range(5,10):\n    print(i)",
      "metadata": {
        "trusted": true
      },
      "execution_count": null,
      "outputs": []
    },
    {
      "cell_type": "code",
      "source": "count = 0\nfor i in range(10):\n    num = eval(input('Enter a number:'))\n    if num > 10:\n        count += 1\nprint('There are', count, 'numbers greater than 10.')",
      "metadata": {
        "trusted": true
      },
      "execution_count": null,
      "outputs": []
    },
    {
      "cell_type": "code",
      "source": "s = 0\nfor i in range(1,101):\n    s += i\nprint('The sum is', s)",
      "metadata": {
        "trusted": true
      },
      "execution_count": null,
      "outputs": []
    },
    {
      "cell_type": "code",
      "source": "s = 0\nfor i in range(10):\n    num = eval(input('Enter a number:'))\n    s += num\nprint('The average is', s/10)",
      "metadata": {
        "trusted": true
      },
      "execution_count": null,
      "outputs": []
    },
    {
      "cell_type": "code",
      "source": "x = 9\ny = 81\nx = y\ny = x\nprint(x)\nprint(y)",
      "metadata": {
        "trusted": true
      },
      "execution_count": null,
      "outputs": []
    },
    {
      "cell_type": "code",
      "source": "x = 9\ny = 81\nhold = x\nx = y\ny = hold\nprint(x)\nprint(y)",
      "metadata": {
        "trusted": true
      },
      "execution_count": null,
      "outputs": []
    },
    {
      "cell_type": "code",
      "source": "x = 9\ny = 81\nx, y = y, x\nprint(x)\nprint(y)",
      "metadata": {
        "trusted": true
      },
      "execution_count": null,
      "outputs": []
    },
    {
      "cell_type": "code",
      "source": "num = int(input('Enter number: '))\nflag = 0\nfor i in range(2, num):\n    if num % i == 0\n     flag = 1\n        \nif flag == 1:\n    print('Not prime')\nelse:\n    print('Prime')",
      "metadata": {
        "trusted": true
      },
      "execution_count": null,
      "outputs": []
    },
    {
      "cell_type": "code",
      "source": "largest = 0\nfor i in range(9):\n    num = eval(input('Enter a positive number:'))\n    if num > largest:\n        largest = num\nprint('Largest number:', largest)",
      "metadata": {
        "trusted": true
      },
      "execution_count": null,
      "outputs": []
    },
    {
      "cell_type": "code",
      "source": "",
      "metadata": {},
      "execution_count": null,
      "outputs": []
    }
  ]
}